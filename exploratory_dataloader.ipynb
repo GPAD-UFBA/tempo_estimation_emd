{
 "cells": [
  {
   "cell_type": "code",
   "execution_count": 1,
   "metadata": {},
   "outputs": [],
   "source": [
    "from src.data.dataset_load import CustomAudioDataset"
   ]
  },
  {
   "cell_type": "code",
   "execution_count": 2,
   "metadata": {},
   "outputs": [],
   "source": [
    "src_mirum = CustomAudioDataset(annotations_file = 'testFolder\\SMC_MIRUM.csv',\n",
    "                               audio_dir = 'testFolder',\n",
    "                               transform = None,\n",
    "                               window_size = 16_000, \n",
    "                               stride = 8_000)"
   ]
  },
  {
   "cell_type": "code",
   "execution_count": 3,
   "metadata": {},
   "outputs": [],
   "source": [
    "teste = next(iter(src_mirum))"
   ]
  },
  {
   "cell_type": "code",
   "execution_count": 4,
   "metadata": {},
   "outputs": [
    {
     "data": {
      "text/plain": [
       "tensor([-0.0035, -0.0042, -0.0036,  ..., -0.0105, -0.0152, -0.0166])"
      ]
     },
     "execution_count": 4,
     "metadata": {},
     "output_type": "execute_result"
    }
   ],
   "source": [
    "teste['sample']"
   ]
  },
  {
   "cell_type": "code",
   "execution_count": 5,
   "metadata": {},
   "outputs": [],
   "source": [
    "from src.features.upemd import UPEMD"
   ]
  },
  {
   "cell_type": "code",
   "execution_count": 6,
   "metadata": {},
   "outputs": [],
   "source": [
    "upemd = UPEMD(num_imf=6)"
   ]
  },
  {
   "cell_type": "code",
   "execution_count": 7,
   "metadata": {},
   "outputs": [],
   "source": [
    "imfs = upemd.make_imfs(teste['sample'])"
   ]
  },
  {
   "cell_type": "code",
   "execution_count": 8,
   "metadata": {},
   "outputs": [],
   "source": [
    "from src.data.data_preprocessing import preprocess_data"
   ]
  },
  {
   "cell_type": "code",
   "execution_count": 9,
   "metadata": {},
   "outputs": [
    {
     "data": {
      "text/plain": [
       "6"
      ]
     },
     "execution_count": 9,
     "metadata": {},
     "output_type": "execute_result"
    }
   ],
   "source": [
    "len(imfs.T)"
   ]
  },
  {
   "cell_type": "code",
   "execution_count": 10,
   "metadata": {},
   "outputs": [
    {
     "data": {
      "text/plain": [
       "6"
      ]
     },
     "execution_count": 10,
     "metadata": {},
     "output_type": "execute_result"
    }
   ],
   "source": [
    "imfs.T.shape[0]"
   ]
  },
  {
   "cell_type": "code",
   "execution_count": 12,
   "metadata": {},
   "outputs": [
    {
     "name": "stderr",
     "output_type": "stream",
     "text": [
      "d:\\Projetos_hd\\tempo_estimation_emd\\.venv\\lib\\site-packages\\librosa\\util\\decorators.py:88: UserWarning: Empty filters detected in mel frequency basis. Some channels will produce empty responses. Try increasing your sampling rate (and fmax) or reducing n_mels.\n",
      "  return f(*args, **kwargs)\n"
     ]
    },
    {
     "ename": "ValueError",
     "evalue": "could not broadcast input array from shape (7,) into shape (16000,)",
     "output_type": "error",
     "traceback": [
      "\u001b[1;31m---------------------------------------------------------------------------\u001b[0m",
      "\u001b[1;31mValueError\u001b[0m                                Traceback (most recent call last)",
      "\u001b[1;32md:\\Projetos_hd\\tempo_estimation_emd\\exploratory_dataloader.ipynb Célula: 11\u001b[0m in \u001b[0;36m<cell line: 1>\u001b[1;34m()\u001b[0m\n\u001b[1;32m----> <a href='vscode-notebook-cell:/d%3A/Projetos_hd/tempo_estimation_emd/exploratory_dataloader.ipynb#X15sZmlsZQ%3D%3D?line=0'>1</a>\u001b[0m preprocess_data(imfs\u001b[39m.\u001b[39;49mT)\n",
      "File \u001b[1;32md:\\Projetos_hd\\tempo_estimation_emd\\src\\data\\data_preprocessing.py:18\u001b[0m, in \u001b[0;36mpreprocess_data\u001b[1;34m(array, sr)\u001b[0m\n\u001b[0;32m     14\u001b[0m pedf_array \u001b[39m=\u001b[39m np\u001b[39m.\u001b[39mzeros((array\u001b[39m.\u001b[39mshape)) \n\u001b[0;32m     17\u001b[0m \u001b[39mfor\u001b[39;00m imf_index, imf \u001b[39min\u001b[39;00m \u001b[39menumerate\u001b[39m(array):\n\u001b[1;32m---> 18\u001b[0m     pedf_array[imf_index] \u001b[39m=\u001b[39m periodicity_detection(onset_detector\u001b[39m.\u001b[39modf(imf,sr))\n\u001b[0;32m     20\u001b[0m \u001b[39mreturn\u001b[39;00m pedf_array\n",
      "\u001b[1;31mValueError\u001b[0m: could not broadcast input array from shape (7,) into shape (16000,)"
     ]
    }
   ],
   "source": [
    "preprocess_data(imfs.T)"
   ]
  },
  {
   "cell_type": "code",
   "execution_count": 13,
   "metadata": {},
   "outputs": [
    {
     "data": {
      "text/plain": [
       "(6, 16000)"
      ]
     },
     "execution_count": 13,
     "metadata": {},
     "output_type": "execute_result"
    }
   ],
   "source": [
    "imfs.T.shape"
   ]
  },
  {
   "cell_type": "code",
   "execution_count": 19,
   "metadata": {},
   "outputs": [],
   "source": [
    "from src.features.onset_detector import OnsetDetector\n",
    "from src.features.periodicity_detection import periodicity_detection\n",
    "import numpy as np\n",
    "sr = 16_000"
   ]
  },
  {
   "cell_type": "code",
   "execution_count": 24,
   "metadata": {},
   "outputs": [
    {
     "name": "stderr",
     "output_type": "stream",
     "text": [
      "d:\\Projetos_hd\\tempo_estimation_emd\\.venv\\lib\\site-packages\\librosa\\util\\decorators.py:88: UserWarning: Empty filters detected in mel frequency basis. Some channels will produce empty responses. Try increasing your sampling rate (and fmax) or reducing n_mels.\n",
      "  return f(*args, **kwargs)\n"
     ]
    }
   ],
   "source": [
    "onset_detector = OnsetDetector()\n",
    "pedf_array = np.zeros((imfs.T.shape)) \n",
    "\n",
    "for imf_index, imf in enumerate(imfs.T):\n",
    "    a = onset_detector.odf(imf,sr)"
   ]
  },
  {
   "cell_type": "code",
   "execution_count": 26,
   "metadata": {},
   "outputs": [],
   "source": [
    "#TODO\n",
    "# pegar o spectral flux e os onsets e remover todos os pontos diferentes dos detectados"
   ]
  },
  {
   "cell_type": "code",
   "execution_count": null,
   "metadata": {},
   "outputs": [],
   "source": []
  }
 ],
 "metadata": {
  "kernelspec": {
   "display_name": "Python 3.8.10 ('.venv': venv)",
   "language": "python",
   "name": "python3"
  },
  "language_info": {
   "codemirror_mode": {
    "name": "ipython",
    "version": 3
   },
   "file_extension": ".py",
   "mimetype": "text/x-python",
   "name": "python",
   "nbconvert_exporter": "python",
   "pygments_lexer": "ipython3",
   "version": "3.8.10"
  },
  "orig_nbformat": 4,
  "vscode": {
   "interpreter": {
    "hash": "89a4b412ab490c34036198dcd4ee14946e4951f48ed0fbd62b34b3b6b8752a29"
   }
  }
 },
 "nbformat": 4,
 "nbformat_minor": 2
}
