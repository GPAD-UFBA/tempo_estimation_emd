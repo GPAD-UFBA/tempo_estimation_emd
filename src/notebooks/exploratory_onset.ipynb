{
 "cells": [
  {
   "cell_type": "code",
   "execution_count": 1,
   "metadata": {},
   "outputs": [],
   "source": [
    "from __future__ import print_function\n",
    "import numpy as np\n",
    "import matplotlib.pyplot as plt\n",
    "\n",
    "import librosa\n",
    "import librosa.display\n",
    "\n",
    "from src.data.data_loader import audio_loader\n",
    "from src.data.h5_loader import load_h5\n"
   ]
  },
  {
   "cell_type": "code",
   "execution_count": 2,
   "metadata": {},
   "outputs": [],
   "source": [
    "array_data = load_h5('\\data\\smc_mirum_tempo.h5',size=64)"
   ]
  },
  {
   "cell_type": "code",
   "execution_count": 34,
   "metadata": {},
   "outputs": [],
   "source": [
    "y, sr =array_data[0][14],11025"
   ]
  },
  {
   "cell_type": "code",
   "execution_count": 35,
   "metadata": {},
   "outputs": [],
   "source": [
    "n_fft = 1024\n",
    "hop_length = int(librosa.time_to_samples(1./200, sr=sr))\n",
    "lag = 2\n",
    "n_mels = 138\n",
    "fmin = 27.5\n",
    "fmax = 16000.\n",
    "max_size = 3"
   ]
  },
  {
   "cell_type": "code",
   "execution_count": 36,
   "metadata": {},
   "outputs": [
    {
     "name": "stderr",
     "output_type": "stream",
     "text": [
      "C:\\Users\\Caléo\\AppData\\Local\\Temp\\ipykernel_1384\\473892238.py:1: FutureWarning: Pass y=[ 0.00018276  0.00018273  0.0001827  ... -0.00419308 -0.00419326\n",
      " -0.00419344] as keyword args. From version 0.10 passing these as positional arguments will result in an error\n",
      "  S = librosa.feature.melspectrogram(y, sr=sr, n_fft=n_fft,\n"
     ]
    },
    {
     "data": {
      "image/png": "[encoded data removed]",
      "text/plain": [
       "<Figure size 432x288 with 1 Axes>"
      ]
     },
     "metadata": {
      "needs_background": "light"
     },
     "output_type": "display_data"
    }
   ],
   "source": [
    "S = librosa.feature.melspectrogram(y, sr=sr, n_fft=n_fft,\n",
    "                                   hop_length=hop_length,\n",
    "                                   fmin=fmin,\n",
    "                                   fmax=fmax,\n",
    "                                   n_mels=n_mels)\n",
    "\n",
    "\n",
    "plt.figure(figsize=(6, 4))\n",
    "librosa.display.specshow(librosa.power_to_db(S, ref=np.max),\n",
    "                         y_axis='mel', x_axis='time', sr=sr,\n",
    "                         hop_length=hop_length, fmin=fmin, fmax=fmax)\n",
    "plt.tight_layout()"
   ]
  },
  {
   "cell_type": "code",
   "execution_count": 37,
   "metadata": {},
   "outputs": [],
   "source": [
    "odf_default = librosa.onset.onset_strength(y=y, sr=sr, hop_length=hop_length)\n",
    "onset_default = librosa.onset.onset_detect(y=y, sr=sr, hop_length=hop_length,\n",
    "                                           units='time')"
   ]
  },
  {
   "cell_type": "code",
   "execution_count": 38,
   "metadata": {},
   "outputs": [],
   "source": [
    "odf_sf = librosa.onset.onset_strength(S=librosa.power_to_db(S, ref=np.max),\n",
    "                                      sr=sr,\n",
    "                                      hop_length=hop_length,\n",
    "                                      lag=lag, max_size=max_size)\n",
    "\n",
    "onset_sf = librosa.onset.onset_detect(onset_envelope=odf_sf,\n",
    "                                      sr=sr,\n",
    "                                      hop_length=hop_length,\n",
    "                                      units='time')"
   ]
  },
  {
   "cell_type": "code",
   "execution_count": 39,
   "metadata": {},
   "outputs": [
    {
     "data": {
      "image/png": "[encoded data removed]",
      "text/plain": [
       "<Figure size 432x432 with 3 Axes>"
      ]
     },
     "metadata": {
      "needs_background": "light"
     },
     "output_type": "display_data"
    }
   ],
   "source": [
    "# sphinx_gallery_thumbnail_number = 2\n",
    "plt.figure(figsize=(6, 6))\n",
    "\n",
    "frame_time = librosa.frames_to_time(np.arange(len(odf_default)),\n",
    "                                    sr=sr,\n",
    "                                    hop_length=hop_length)\n",
    "\n",
    "ax = plt.subplot(2, 1, 2)\n",
    "librosa.display.specshow(librosa.power_to_db(S, ref=np.max),\n",
    "                         y_axis='mel', x_axis='time', sr=sr,\n",
    "                         hop_length=hop_length, fmin=fmin, fmax=fmax)\n",
    "plt.xlim([0, 5.0])\n",
    "plt.axis('tight')\n",
    "\n",
    "\n",
    "plt.subplot(4, 1, 1, sharex=ax)\n",
    "plt.plot(frame_time, odf_default, label='Spectral flux')\n",
    "plt.vlines(onset_default, 0, odf_default.max(), label='Onsets')\n",
    "plt.xlim([0, 5.0])\n",
    "plt.legend()\n",
    "\n",
    "\n",
    "plt.subplot(4, 1, 2, sharex=ax)\n",
    "plt.plot(frame_time, odf_sf, color='g', label='Superflux')\n",
    "plt.vlines(onset_sf, 0, odf_sf.max(), label='Onsets')\n",
    "plt.xlim([0, 5.0])\n",
    "plt.legend()\n",
    "\n",
    "plt.tight_layout()\n",
    "plt.show()"
   ]
  },
  {
   "cell_type": "code",
   "execution_count": null,
   "metadata": {},
   "outputs": [],
   "source": []
  }
 ],
 "metadata": {
  "interpreter": {
   "hash": "89a4b412ab490c34036198dcd4ee14946e4951f48ed0fbd62b34b3b6b8752a29"
  },
  "kernelspec": {
   "display_name": "Python 3.8.10 ('.venv': venv)",
   "language": "python",
   "name": "python3"
  },
  "language_info": {
   "codemirror_mode": {
    "name": "ipython",
    "version": 3
   },
   "file_extension": ".py",
   "mimetype": "text/x-python",
   "name": "python",
   "nbconvert_exporter": "python",
   "pygments_lexer": "ipython3",
   "version": "3.8.10"
  },
  "orig_nbformat": 4
 },
 "nbformat": 4,
 "nbformat_minor": 2
}
