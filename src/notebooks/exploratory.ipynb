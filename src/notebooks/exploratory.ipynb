{
 "cells": [
  {
   "cell_type": "code",
   "execution_count": null,
   "metadata": {},
   "outputs": [],
   "source": [
    "class test(object):\n",
    "    def __init__(self):\n",
    "        self.a = 1\n",
    "        self.b = 2"
   ]
  }
 ],
 "metadata": {
  "interpreter": {
   "hash": "ef5dc29173167432ec5b903e86cb64848e8209c540fdb38a91d0097e93a6c995"
  },
  "kernelspec": {
   "display_name": "Python 3.8.10 ('.venv': venv)",
   "language": "python",
   "name": "python3"
  },
  "language_info": {
   "name": "python",
   "version": "3.8.10"
  },
  "orig_nbformat": 4
 },
 "nbformat": 4,
 "nbformat_minor": 2
}
