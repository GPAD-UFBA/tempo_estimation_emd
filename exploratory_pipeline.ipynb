{
 "cells": [
  {
   "cell_type": "code",
   "execution_count": 1,
   "metadata": {},
   "outputs": [],
   "source": [
    "import torch\n",
    "from torch.utils.data import DataLoader\n",
    "from torch.utils.data import random_split\n",
    "\n",
    "from src.models.bpm_net import bpmNET\n",
    "from src.data.dataset_load import CustomAudioDataset"
   ]
  },
  {
   "cell_type": "code",
   "execution_count": 2,
   "metadata": {},
   "outputs": [
    {
     "ename": "KeyboardInterrupt",
     "evalue": "",
     "output_type": "error",
     "traceback": [
      "\u001b[1;31m---------------------------------------------------------------------------\u001b[0m",
      "\u001b[1;31mKeyboardInterrupt\u001b[0m                         Traceback (most recent call last)",
      "\u001b[1;32md:\\Projetos_hd\\tempo_estimation_emd\\exploratory_pipeline.ipynb Célula: 2\u001b[0m in \u001b[0;36m<cell line: 1>\u001b[1;34m()\u001b[0m\n\u001b[1;32m----> <a href='vscode-notebook-cell:/d%3A/Projetos_hd/tempo_estimation_emd/exploratory_pipeline.ipynb#W5sZmlsZQ%3D%3D?line=0'>1</a>\u001b[0m src_mirum \u001b[39m=\u001b[39m CustomAudioDataset(annotations_file\u001b[39m=\u001b[39;49m\u001b[39m'\u001b[39;49m\u001b[39mbpms_database\u001b[39;49m\u001b[39m\\\u001b[39;49m\u001b[39mSMC_MIRUM.csv\u001b[39;49m\u001b[39m'\u001b[39;49m,\n\u001b[0;32m      <a href='vscode-notebook-cell:/d%3A/Projetos_hd/tempo_estimation_emd/exploratory_pipeline.ipynb#W5sZmlsZQ%3D%3D?line=1'>2</a>\u001b[0m                                audio_dir\u001b[39m=\u001b[39;49m\u001b[39m'\u001b[39;49m\u001b[39mdataset\u001b[39;49m\u001b[39m\\\u001b[39;49m\u001b[39msmc_mirum_tempo\u001b[39;49m\u001b[39m'\u001b[39;49m,\n\u001b[0;32m      <a href='vscode-notebook-cell:/d%3A/Projetos_hd/tempo_estimation_emd/exploratory_pipeline.ipynb#W5sZmlsZQ%3D%3D?line=2'>3</a>\u001b[0m                                transform\u001b[39m=\u001b[39;49m\u001b[39mNone\u001b[39;49;00m,\n\u001b[0;32m      <a href='vscode-notebook-cell:/d%3A/Projetos_hd/tempo_estimation_emd/exploratory_pipeline.ipynb#W5sZmlsZQ%3D%3D?line=3'>4</a>\u001b[0m                                window_size\u001b[39m=\u001b[39;49m\u001b[39m16_000\u001b[39;49m,\n\u001b[0;32m      <a href='vscode-notebook-cell:/d%3A/Projetos_hd/tempo_estimation_emd/exploratory_pipeline.ipynb#W5sZmlsZQ%3D%3D?line=4'>5</a>\u001b[0m                                stride\u001b[39m=\u001b[39;49m\u001b[39m8000\u001b[39;49m)\n\u001b[0;32m      <a href='vscode-notebook-cell:/d%3A/Projetos_hd/tempo_estimation_emd/exploratory_pipeline.ipynb#W5sZmlsZQ%3D%3D?line=5'>6</a>\u001b[0m train_size \u001b[39m=\u001b[39m \u001b[39mint\u001b[39m(\u001b[39mlen\u001b[39m(src_mirum)\u001b[39m*\u001b[39m\u001b[39m0.7\u001b[39m)\n\u001b[0;32m      <a href='vscode-notebook-cell:/d%3A/Projetos_hd/tempo_estimation_emd/exploratory_pipeline.ipynb#W5sZmlsZQ%3D%3D?line=6'>7</a>\u001b[0m test_size \u001b[39m=\u001b[39m \u001b[39mlen\u001b[39m(src_mirum) \u001b[39m-\u001b[39m train_size\n",
      "File \u001b[1;32md:\\Projetos_hd\\tempo_estimation_emd\\src\\data\\dataset_load.py:24\u001b[0m, in \u001b[0;36mCustomAudioDataset.__init__\u001b[1;34m(self, annotations_file, audio_dir, transform, window_size, stride, sample_rate)\u001b[0m\n\u001b[0;32m     21\u001b[0m \u001b[39mself\u001b[39m\u001b[39m.\u001b[39msample_rate \u001b[39m=\u001b[39m sample_rate\n\u001b[0;32m     22\u001b[0m \u001b[39mself\u001b[39m\u001b[39m.\u001b[39mtransform \u001b[39m=\u001b[39m transform\n\u001b[1;32m---> 24\u001b[0m \u001b[39mself\u001b[39;49m\u001b[39m.\u001b[39;49mcreate_data_tuples()\n",
      "File \u001b[1;32md:\\Projetos_hd\\tempo_estimation_emd\\src\\data\\dataset_load.py:30\u001b[0m, in \u001b[0;36mCustomAudioDataset.create_data_tuples\u001b[1;34m(self)\u001b[0m\n\u001b[0;32m     28\u001b[0m \u001b[39mdef\u001b[39;00m \u001b[39mcreate_data_tuples\u001b[39m(\u001b[39mself\u001b[39m):\n\u001b[0;32m     29\u001b[0m     \u001b[39mfor\u001b[39;00m audio_path \u001b[39min\u001b[39;00m \u001b[39mself\u001b[39m\u001b[39m.\u001b[39mfiles:\n\u001b[1;32m---> 30\u001b[0m         data, label \u001b[39m=\u001b[39m \u001b[39mself\u001b[39;49m\u001b[39m.\u001b[39;49mload_audio(audio_path)\n\u001b[0;32m     31\u001b[0m         padded_audio \u001b[39m=\u001b[39m \u001b[39mself\u001b[39m\u001b[39m.\u001b[39mpad_audio(data)\n\u001b[0;32m     33\u001b[0m         idxs \u001b[39m=\u001b[39m [i \u001b[39mfor\u001b[39;00m i \u001b[39min\u001b[39;00m \u001b[39mrange\u001b[39m(\u001b[39m0\u001b[39m, padded_audio\u001b[39m.\u001b[39msize(\u001b[39m0\u001b[39m) \u001b[39m-\u001b[39m \u001b[39mself\u001b[39m\u001b[39m.\u001b[39mwindow_size, \u001b[39mself\u001b[39m\u001b[39m.\u001b[39mstride)]\n",
      "File \u001b[1;32md:\\Projetos_hd\\tempo_estimation_emd\\src\\data\\dataset_load.py:44\u001b[0m, in \u001b[0;36mCustomAudioDataset.load_audio\u001b[1;34m(self, audio_path)\u001b[0m\n\u001b[0;32m     42\u001b[0m \u001b[39mdef\u001b[39;00m \u001b[39mload_audio\u001b[39m(\u001b[39mself\u001b[39m, audio_path):\n\u001b[0;32m     43\u001b[0m         audio_file \u001b[39m=\u001b[39m os\u001b[39m.\u001b[39mpath\u001b[39m.\u001b[39msplitext(os\u001b[39m.\u001b[39mpath\u001b[39m.\u001b[39mbasename(audio_path))[\u001b[39m0\u001b[39m]\n\u001b[1;32m---> 44\u001b[0m         data, _ \u001b[39m=\u001b[39m librosa\u001b[39m.\u001b[39;49mload(audio_path,sr\u001b[39m=\u001b[39;49m\u001b[39mself\u001b[39;49m\u001b[39m.\u001b[39;49msample_rate)\n\u001b[0;32m     45\u001b[0m         data \u001b[39m=\u001b[39m torch\u001b[39m.\u001b[39mfrom_numpy(data)            \n\u001b[0;32m     46\u001b[0m         label \u001b[39m=\u001b[39m \u001b[39mself\u001b[39m\u001b[39m.\u001b[39maudio_labels\u001b[39m.\u001b[39mloc[\u001b[39mself\u001b[39m\u001b[39m.\u001b[39maudio_labels[\u001b[39m'\u001b[39m\u001b[39mFile\u001b[39m\u001b[39m'\u001b[39m] \u001b[39m==\u001b[39m audio_file][\u001b[39m'\u001b[39m\u001b[39mTempo\u001b[39m\u001b[39m'\u001b[39m]\u001b[39m.\u001b[39mvalues[\u001b[39m0\u001b[39m]\n",
      "File \u001b[1;32md:\\Projetos_hd\\tempo_estimation_emd\\.venv\\lib\\site-packages\\librosa\\util\\decorators.py:88\u001b[0m, in \u001b[0;36mdeprecate_positional_args.<locals>._inner_deprecate_positional_args.<locals>.inner_f\u001b[1;34m(*args, **kwargs)\u001b[0m\n\u001b[0;32m     86\u001b[0m extra_args \u001b[39m=\u001b[39m \u001b[39mlen\u001b[39m(args) \u001b[39m-\u001b[39m \u001b[39mlen\u001b[39m(all_args)\n\u001b[0;32m     87\u001b[0m \u001b[39mif\u001b[39;00m extra_args \u001b[39m<\u001b[39m\u001b[39m=\u001b[39m \u001b[39m0\u001b[39m:\n\u001b[1;32m---> 88\u001b[0m     \u001b[39mreturn\u001b[39;00m f(\u001b[39m*\u001b[39;49margs, \u001b[39m*\u001b[39;49m\u001b[39m*\u001b[39;49mkwargs)\n\u001b[0;32m     90\u001b[0m \u001b[39m# extra_args > 0\u001b[39;00m\n\u001b[0;32m     91\u001b[0m args_msg \u001b[39m=\u001b[39m [\n\u001b[0;32m     92\u001b[0m     \u001b[39m\"\u001b[39m\u001b[39m{}\u001b[39;00m\u001b[39m=\u001b[39m\u001b[39m{}\u001b[39;00m\u001b[39m\"\u001b[39m\u001b[39m.\u001b[39mformat(name, arg)\n\u001b[0;32m     93\u001b[0m     \u001b[39mfor\u001b[39;00m name, arg \u001b[39min\u001b[39;00m \u001b[39mzip\u001b[39m(kwonly_args[:extra_args], args[\u001b[39m-\u001b[39mextra_args:])\n\u001b[0;32m     94\u001b[0m ]\n",
      "File \u001b[1;32md:\\Projetos_hd\\tempo_estimation_emd\\.venv\\lib\\site-packages\\librosa\\core\\audio.py:183\u001b[0m, in \u001b[0;36mload\u001b[1;34m(path, sr, mono, offset, duration, dtype, res_type)\u001b[0m\n\u001b[0;32m    180\u001b[0m     y \u001b[39m=\u001b[39m to_mono(y)\n\u001b[0;32m    182\u001b[0m \u001b[39mif\u001b[39;00m sr \u001b[39mis\u001b[39;00m \u001b[39mnot\u001b[39;00m \u001b[39mNone\u001b[39;00m:\n\u001b[1;32m--> 183\u001b[0m     y \u001b[39m=\u001b[39m resample(y, orig_sr\u001b[39m=\u001b[39;49msr_native, target_sr\u001b[39m=\u001b[39;49msr, res_type\u001b[39m=\u001b[39;49mres_type)\n\u001b[0;32m    185\u001b[0m \u001b[39melse\u001b[39;00m:\n\u001b[0;32m    186\u001b[0m     sr \u001b[39m=\u001b[39m sr_native\n",
      "File \u001b[1;32md:\\Projetos_hd\\tempo_estimation_emd\\.venv\\lib\\site-packages\\librosa\\util\\decorators.py:88\u001b[0m, in \u001b[0;36mdeprecate_positional_args.<locals>._inner_deprecate_positional_args.<locals>.inner_f\u001b[1;34m(*args, **kwargs)\u001b[0m\n\u001b[0;32m     86\u001b[0m extra_args \u001b[39m=\u001b[39m \u001b[39mlen\u001b[39m(args) \u001b[39m-\u001b[39m \u001b[39mlen\u001b[39m(all_args)\n\u001b[0;32m     87\u001b[0m \u001b[39mif\u001b[39;00m extra_args \u001b[39m<\u001b[39m\u001b[39m=\u001b[39m \u001b[39m0\u001b[39m:\n\u001b[1;32m---> 88\u001b[0m     \u001b[39mreturn\u001b[39;00m f(\u001b[39m*\u001b[39;49margs, \u001b[39m*\u001b[39;49m\u001b[39m*\u001b[39;49mkwargs)\n\u001b[0;32m     90\u001b[0m \u001b[39m# extra_args > 0\u001b[39;00m\n\u001b[0;32m     91\u001b[0m args_msg \u001b[39m=\u001b[39m [\n\u001b[0;32m     92\u001b[0m     \u001b[39m\"\u001b[39m\u001b[39m{}\u001b[39;00m\u001b[39m=\u001b[39m\u001b[39m{}\u001b[39;00m\u001b[39m\"\u001b[39m\u001b[39m.\u001b[39mformat(name, arg)\n\u001b[0;32m     93\u001b[0m     \u001b[39mfor\u001b[39;00m name, arg \u001b[39min\u001b[39;00m \u001b[39mzip\u001b[39m(kwonly_args[:extra_args], args[\u001b[39m-\u001b[39mextra_args:])\n\u001b[0;32m     94\u001b[0m ]\n",
      "File \u001b[1;32md:\\Projetos_hd\\tempo_estimation_emd\\.venv\\lib\\site-packages\\librosa\\core\\audio.py:617\u001b[0m, in \u001b[0;36mresample\u001b[1;34m(y, orig_sr, target_sr, res_type, fix, scale, **kwargs)\u001b[0m\n\u001b[0;32m    615\u001b[0m     y_hat \u001b[39m=\u001b[39m soxr\u001b[39m.\u001b[39mresample(y\u001b[39m.\u001b[39mT, orig_sr, target_sr, quality\u001b[39m=\u001b[39mres_type)\u001b[39m.\u001b[39mT\n\u001b[0;32m    616\u001b[0m \u001b[39melse\u001b[39;00m:\n\u001b[1;32m--> 617\u001b[0m     y_hat \u001b[39m=\u001b[39m resampy\u001b[39m.\u001b[39;49mresample(y, orig_sr, target_sr, \u001b[39mfilter\u001b[39;49m\u001b[39m=\u001b[39;49mres_type, axis\u001b[39m=\u001b[39;49m\u001b[39m-\u001b[39;49m\u001b[39m1\u001b[39;49m)\n\u001b[0;32m    619\u001b[0m \u001b[39mif\u001b[39;00m fix:\n\u001b[0;32m    620\u001b[0m     y_hat \u001b[39m=\u001b[39m util\u001b[39m.\u001b[39mfix_length(y_hat, size\u001b[39m=\u001b[39mn_samples, \u001b[39m*\u001b[39m\u001b[39m*\u001b[39mkwargs)\n",
      "File \u001b[1;32md:\\Projetos_hd\\tempo_estimation_emd\\.venv\\lib\\site-packages\\resampy\\core.py:120\u001b[0m, in \u001b[0;36mresample\u001b[1;34m(x, sr_orig, sr_new, axis, filter, **kwargs)\u001b[0m\n\u001b[0;32m    118\u001b[0m x_2d \u001b[39m=\u001b[39m x\u001b[39m.\u001b[39mswapaxes(\u001b[39m0\u001b[39m, axis)\u001b[39m.\u001b[39mreshape((x\u001b[39m.\u001b[39mshape[axis], \u001b[39m-\u001b[39m\u001b[39m1\u001b[39m))\n\u001b[0;32m    119\u001b[0m y_2d \u001b[39m=\u001b[39m y\u001b[39m.\u001b[39mswapaxes(\u001b[39m0\u001b[39m, axis)\u001b[39m.\u001b[39mreshape((y\u001b[39m.\u001b[39mshape[axis], \u001b[39m-\u001b[39m\u001b[39m1\u001b[39m))\n\u001b[1;32m--> 120\u001b[0m resample_f(x_2d, y_2d, sample_ratio, interp_win, interp_delta, precision)\n\u001b[0;32m    122\u001b[0m \u001b[39mreturn\u001b[39;00m y\n",
      "\u001b[1;31mKeyboardInterrupt\u001b[0m: "
     ]
    }
   ],
   "source": [
    "src_mirum = CustomAudioDataset(annotations_file='bpms_database\\SMC_MIRUM.csv',\n",
    "                               audio_dir='dataset\\smc_mirum_tempo',\n",
    "                               transform=None,\n",
    "                               window_size=16_000,\n",
    "                               stride=8000)\n",
    "train_size = int(len(src_mirum)*0.7)\n",
    "test_size = len(src_mirum) - train_size\n",
    "\n",
    "train_data, test_data = random_split(src_mirum, [train_size, test_size])\n",
    "print(\"The length of train data is:\",len(train_data))\n",
    "print(\"The length of test data is:\",len(test_data))\n",
    "\n",
    "train_dataloader = DataLoader(train_data, batch_size=64, shuffle=True)\n",
    "test_dataloader = DataLoader(test_data, batch_size=64, shuffle=True)"
   ]
  },
  {
   "cell_type": "code",
   "execution_count": null,
   "metadata": {},
   "outputs": [],
   "source": []
  }
 ],
 "metadata": {
  "kernelspec": {
   "display_name": "Python 3.8.10 ('.venv': venv)",
   "language": "python",
   "name": "python3"
  },
  "language_info": {
   "codemirror_mode": {
    "name": "ipython",
    "version": 3
   },
   "file_extension": ".py",
   "mimetype": "text/x-python",
   "name": "python",
   "nbconvert_exporter": "python",
   "pygments_lexer": "ipython3",
   "version": "3.8.10"
  },
  "orig_nbformat": 4,
  "vscode": {
   "interpreter": {
    "hash": "89a4b412ab490c34036198dcd4ee14946e4951f48ed0fbd62b34b3b6b8752a29"
   }
  }
 },
 "nbformat": 4,
 "nbformat_minor": 2
}
